{
 "cells": [
  {
   "cell_type": "code",
   "execution_count": 69,
   "metadata": {},
   "outputs": [
    {
     "data": {
      "text/plain": [
       "21"
      ]
     },
     "execution_count": 69,
     "metadata": {},
     "output_type": "execute_result"
    }
   ],
   "source": [
    "import socket\n",
    "import pandas as pd\n",
    "\n",
    "server = 'irc.chat.twitch.tv'\n",
    "port = 6667\n",
    "nickname = 'yeet'\n",
    "channel = '#disguisedtoast'\n",
    "token = 'REDACTED'\n",
    "\n",
    "sock = socket.socket()\n",
    "sock.connect((server, port))\n",
    "sock.send(f\"PASS {token}\\n\".encode('utf-8'))\n",
    "sock.send(f\"NICK {nickname}\\n\".encode('utf-8'))\n",
    "sock.send(f\"JOIN {channel}\\n\".encode('utf-8'))"
   ]
  },
  {
   "cell_type": "code",
   "execution_count": 70,
   "metadata": {},
   "outputs": [
    {
     "data": {
      "text/plain": [
       "':tmi.twitch.tv 001 chat_scraping :Welcome, GLHF!\\r\\n:tmi.twitch.tv 002 chat_scraping :Your host is tmi.twitch.tv\\r\\n:tmi.twitch.tv 003 chat_scraping :This server is rather new\\r\\n:tmi.twitch.tv 004 chat_scraping :-\\r\\n:tmi.twitch.tv 375 chat_scraping :-\\r\\n:tmi.twitch.tv 372 chat_scraping :You are in a maze of twisty passages, all alike.\\r\\n:tmi.twitch.tv 376 chat_scraping :>\\r\\n:chat_scraping!chat_scraping@chat_scraping.tmi.twitch.tv JOIN #disguisedtoast\\r\\n:chat_scraping.tmi.twitch.tv 353 chat_scraping = #disguisedtoast :chat_scraping\\r\\n:chat_scraping.tmi.twitch.tv 366 chat_scraping #disguisedtoast :End of /NAMES list\\r\\n:justatwitchusername!justatwitchusername@justatwitchusername.tmi.twitch.tv PRIVMSG #disguisedtoast :how is scarra always soo good jesus\\r\\n'"
      ]
     },
     "execution_count": 70,
     "metadata": {},
     "output_type": "execute_result"
    }
   ],
   "source": [
    "resp = sock.recv(2048).decode('utf-8')\n",
    "resp"
   ]
  },
  {
   "cell_type": "code",
   "execution_count": 71,
   "metadata": {
    "scrolled": true
   },
   "outputs": [
    {
     "name": "stdout",
     "output_type": "stream",
     "text": [
      ":keefthethief!keefthethief@keefthethief.tmi.twitch.tv PRIVMSG #disguisedtoast :scarra cheating again widepeepoSad\n",
      ":lethrel!lethrel@lethrel.tmi.twitch.tv PRIVMSG #disguisedtoast :Lethrek!\n",
      ":chkn98x!chkn98x@chkn98x.tmi.twitch.tv PRIVMSG #disguisedtoast :scarra ez\n",
      "\n",
      ":iraccmixtape!iraccmixtape@iraccmixtape.tmi.twitch.tv PRIVMSG #disguisedtoast :https://clips.twitch.tv/EasyHilariousCaribouFeelsBadMan\n",
      "\n",
      ":archdamangaming!archdamangaming@archdamangaming.tmi.twitch.tv PRIVMSG #disguisedtoast :can i play?\n",
      "\n",
      ":trashad!trashad@trashad.tmi.twitch.tv PRIVMSG #disguisedtoast :Watch scarra clip LMAO LUL\n",
      "\n",
      ":scaptile!scaptile@scaptile.tmi.twitch.tv PRIVMSG #disguisedtoast :@Hocally the great toast\n",
      "\n",
      ":slayerz44!slayerz44@slayerz44.tmi.twitch.tv PRIVMSG #disguisedtoast :celine gonna win this one np\n",
      "\n",
      ":xxtherealbenxx!xxtherealbenxx@xxtherealbenxx.tmi.twitch.tv PRIVMSG #disguisedtoast :Is Celine streaming?\n",
      "\n",
      ":archdamangaming!archdamangaming@archdamangaming.tmi.twitch.tv PRIVMSG #disguisedtoast :i just added u\n",
      "\n"
     ]
    },
    {
     "ename": "KeyboardInterrupt",
     "evalue": "",
     "output_type": "error",
     "traceback": [
      "\u001b[0;31m---------------------------------------------------------------------------\u001b[0m",
      "\u001b[0;31mKeyboardInterrupt\u001b[0m                         Traceback (most recent call last)",
      "\u001b[0;32m<ipython-input-71-ce1e4d5d96ed>\u001b[0m in \u001b[0;36m<module>\u001b[0;34m()\u001b[0m\n\u001b[1;32m      1\u001b[0m \u001b[0;32mwhile\u001b[0m \u001b[0;32mTrue\u001b[0m\u001b[0;34m:\u001b[0m\u001b[0;34m\u001b[0m\u001b[0m\n\u001b[0;32m----> 2\u001b[0;31m     \u001b[0mresp\u001b[0m \u001b[0;34m=\u001b[0m \u001b[0msock\u001b[0m\u001b[0;34m.\u001b[0m\u001b[0mrecv\u001b[0m\u001b[0;34m(\u001b[0m\u001b[0;36m2048\u001b[0m\u001b[0;34m)\u001b[0m\u001b[0;34m.\u001b[0m\u001b[0mdecode\u001b[0m\u001b[0;34m(\u001b[0m\u001b[0;34m'utf-8'\u001b[0m\u001b[0;34m)\u001b[0m\u001b[0;34m\u001b[0m\u001b[0m\n\u001b[0m\u001b[1;32m      3\u001b[0m     \u001b[0mprint\u001b[0m\u001b[0;34m(\u001b[0m\u001b[0mresp\u001b[0m\u001b[0;34m)\u001b[0m\u001b[0;34m\u001b[0m\u001b[0m\n",
      "\u001b[0;31mKeyboardInterrupt\u001b[0m: "
     ]
    }
   ],
   "source": [
    "while True:\n",
    "    resp = sock.recv(2048).decode('utf-8')\n",
    "    print(resp)"
   ]
  },
  {
   "cell_type": "code",
   "execution_count": 62,
   "metadata": {
    "scrolled": true
   },
   "outputs": [
    {
     "data": {
      "text/plain": [
       "'chy!ifeelichy@ifeelichy.tmi.twitch.tv PRIVMSG #disguisedtoast :DansGame\\r\\n:biitz1!biitz1@biitz1.tmi.twitch.tv PRIVMSG #disguisedtoast :WTF?BRAND??\\r\\n:arcaras!arcaras@arcaras.tmi.twitch.tv PRIVMSG #disguisedtoast :)\\r\\n:fitzjimmer!fitzjimmer@fitzjimmer.tmi.twitch.tv PRIVMSG #disguisedtoast :brand LUL\\r\\n:matcha0515!matcha0515@matcha0515.tmi.twitch.tv PRIVMSG #disguisedtoast :)\\r\\n:justatwitchusername!justatwitchusername@justatwitchusername.tmi.twitch.tv PRIVMSG #disguisedtoast :DRAVENENENEN?\\r\\n:fibolino!fibolino@fibolino.tmi.twitch.tv PRIVMSG #disguisedtoast :)\\r\\n:idealize!idealize@idealize.tmi.twitch.tv PRIVMSG #disguisedtoast :)\\r\\n:rioteer396!rioteer396@rioteer396.tmi.twitch.tv PRIVMSG #disguisedtoast :)\\r\\n:marcude!marcude@marcude.tmi.twitch.tv PRIVMSG #disguisedtoast :)\\r\\n:bartimaeuss!bartimaeuss@bartimaeuss.tmi.twitch.tv PRIVMSG #disguisedtoast :)\\r\\n:rezzlick!rezzlick@rezzlick.tmi.twitch.tv PRIVMSG #disguisedtoast :2 2* brand is OP\\r\\n:kammekasu!kammekasu@kammekasu.tmi.twitch.tv PRIVMSG #disguisedtoast :)\\r\\n:bingoblasto!bingoblasto@bingoblasto.tmi.twitch.tv PRIVMSG #disguisedtoast :)\\r\\n:beowulfcav!beowulfcav@beowulfcav.tmi.twitch.tv PRIVMSG #disguisedtoast :)\\r\\n:kammalotus!kammalotus@kammalotus.tmi.twitch.tv PRIVMSG #disguisedtoast :)\\r\\n:theopscientist!theopscientist@theopscientist.tmi.twitch.tv PRIVMSG #disguisedtoast :Pepega chat...There is no way he is gonna get 6 more Brands for God sake\\r\\n:mixbot!mixbot@mixbot.tmi.twitch.tv PRIVMSG #disguisedtoast :)\\r\\n:zornd!zornd@zornd.tmi.twitch.tv PRIVMSG #disguisedtoast :yordle\\r\\n:fitzjimmer!fitzjimmer@fitzjimmer.tmi.twitch.tv PRIVMSG #disguisedtoast :)\\r\\n:erickr9!erickr9@erickr9.tmi.twitch.tv PRIVMSG #disguisedtoast :toastyDab1 toastyDab2 toastyDab3\\r\\n:expedientfalcon!expedientfalcon@expedientfalcon.tmi.twitch.tv PRIVMSG #disguisedtoast :)\\r\\n:dillonfury!dillonfury@dillonfury.tmi.twitch.tv PRIVMSG #disguisedtoast :chat 3 star brand is unrealistic\\r\\n:sfk95!sfk95@sfk95.tmi.twitch.tv PRIVMSG #disguisedtoast :Brand?\\r\\n:xantast1c!xantast1c@xantast1c.tmi.twitch.tv PRIVMSG #disguisedtoast :chat,you ne'"
      ]
     },
     "execution_count": 62,
     "metadata": {},
     "output_type": "execute_result"
    }
   ],
   "source": [
    "resp = sock.recv(2048).decode('utf-8')\n",
    "resp"
   ]
  },
  {
   "cell_type": "code",
   "execution_count": 37,
   "metadata": {},
   "outputs": [],
   "source": [
    "def find_info(text):\n",
    "    if '\\r\\n:' in text:\n",
    "        username = text.split('!')[0]\n",
    "        find_channel = text.split('PRIVMSG #')[1]\n",
    "        channel = find_channel.split(' :')[0]\n",
    "        raw_message = find_channel.split(' :')[1]\n",
    "        message = raw_message.split('\\r\\n:')[0]\n",
    "        remove = text.split('\\r\\n:')[0] + '\\r\\n:'\n",
    "        next_block = text[len(remove):]\n",
    "        if not username.lower().endswith('bot') and message != '':\n",
    "            names.append(username)\n",
    "            channels.append(channel)\n",
    "            msgs.append(message)\n",
    "        find_info(next_block)\n",
    "    else:\n",
    "        username = text.split('!')[0]\n",
    "        find_channel = text.split('PRIVMSG #')[1]\n",
    "        channel = find_channel.split(' :')[0]\n",
    "        remove = text[1:].split(':')[0]\n",
    "        message = text[1:].replace(remove, '')[1:]\n",
    "        if '\\r\\n' in message:\n",
    "            message = message.replace('\\r\\n', '')\n",
    "        if not username.lower().endswith('bot') and message != '':\n",
    "            names.append(username)\n",
    "            channels.append(channel)\n",
    "            msgs.append(message)"
   ]
  },
  {
   "cell_type": "code",
   "execution_count": 63,
   "metadata": {},
   "outputs": [],
   "source": [
    "names, channels, msgs = [], [], []\n",
    "#find_info(resp)\n",
    "resp\n",
    "asdf = ':harpist!harpist@harpist.tmi.twitch.tv PRIVMSG #disguisedtoast :Pog\\r\\n:chaos788!chaos788@chaos788.tmi.twitch.tv PRIVMSG #disguisedtoast :Hypercarry brand Pog\\r\\n:adiffs1!adiffs1@adiffs1.tmi.twitch.tv PRIVMSG #disguisedtoast :what the fuck\\r\\n:allecrasto!allecrasto@allecrasto.tmi.twitch.tv PRIVMSG #disguisedtoast :ASooolll\\r\\n:rosememories!rosememories@rosememories.tmi.twitch.tv PRIVMSG #disguisedtoast :monkaW\\r\\n:xantast1c!xantast1c@xantast1c.tmi.twitch.tv PRIVMSG #disguisedtoast :now thats a strong comp\\r\\n:adiffs1!adiffs1@adiffs1.tmi.twitch.tv PRIVMSG #disguisedtoast :this is gonna go bad\\r\\n:magomy!magomy@magomy.tmi.twitch.tv PRIVMSG #disguisedtoast :buy mf\\r\\n:shebix!shebix@shebix.tmi.twitch.tv PRIVMSG #disguisedtoast :how does this items work on brand?\\r\\n:beastiej!beastiej@beastiej.tmi.twitch.tv PRIVMSG #disguisedtoast :Asol for drag\\r\\n:nalf!nalf@nalf.tmi.twitch.tv PRIVMSG #disguisedtoast :LULW\\r\\n:yhnu4!yhnu4@yhnu4.tmi.twitch.tv PRIVMSG #disguisedtoast :AYAYA\\r\\n:onchyru!onchyru@onchyru.tmi.twitch.tv PRIVMSG #disguisedtoast :??? lul\\r\\n:ifeelichy!ifeelichy@ifeelichy.tmi.twitch.tv PRIVMSG #disguisedtoast :AYAYA\\r\\n:sleepingtree!sleepingtree@sleepingtree.tmi.twitch.tv PRIVMSG #disguisedtoast :AYAYA\\r\\n:appledonut_21!appledonut_21@appledonut_21.tmi.twitch.tv PRIVMSG #disguisedtoast :AYAYA\\r\\n:thesilveraura!thesilveraura@thesilveraura.tmi.twitch.tv PRIVMSG #disguisedtoast :AYAYA\\r\\n:nyico!nyico@nyico.tmi.twitch.tv PRIVMSG #disguisedtoast :AYAYA\\r\\n:chainryuu2!chainryuu2@chainryuu2.tmi.twitch.tv PRIVMSG #disguisedtoast :AYAYA\\r\\n:mrrrrrxd!mrrrrrxd@mrrrrrxd.tmi.twitch.tv PRIVMSG #disguisedtoast :asol?\\r\\n:wllychng!wllychng@wllychng.tmi.twitch.tv PRIVMSG #disguisedtoast :AYAYA\\r\\n:bartimaeuss!bartimaeuss@bartimaeuss.tmi.twitch.tv PRIVMSG #disguisedtoast :AYAYA\\r\\n:mixbot!mixbot@mixbot.tmi.twitch.tv PRIVMSG #disguisedtoast :AYAYA\\r\\n:wowwee!wowwee@wowwee.tmi.twitch.tv PRIVMSG #disguisedtoast :AYAYA\\r\\n:onchyru!onchyru@onchyru.tmi.twitch.tv PRIVMSG #disguisedtoast :AYAYA\\r\\n:dank_kush_420_cigrip!dank_kush_420_cigrip@dank_kush_420_cigrip.tmi.twitch.tv PRIVMSG #di'\n",
    "find_info(':sumsum9090!sumsum9090@sumsum9090.tmi.twitch.tv PRIVMSG #disguisedtoast :Oh no it’s over')"
   ]
  },
  {
   "cell_type": "code",
   "execution_count": 68,
   "metadata": {},
   "outputs": [
    {
     "data": {
      "text/plain": [
       "['Oh no it’s over']"
      ]
     },
     "execution_count": 68,
     "metadata": {},
     "output_type": "execute_result"
    }
   ],
   "source": [
    "msgs"
   ]
  },
  {
   "cell_type": "code",
   "execution_count": 65,
   "metadata": {},
   "outputs": [],
   "source": [
    "import requests\n",
    "headers={\n",
    "    'Client-ID':'mq8x7uz3vxy8c4e1xafyyjz7mqmnps'\n",
    "}\n",
    "r = requests.get('https://api.twitch.tv/helix/streams?game_id=138585', headers=headers)"
   ]
  },
  {
   "cell_type": "code",
   "execution_count": 147,
   "metadata": {},
   "outputs": [
    {
     "data": {
      "text/plain": [
       "'{\"data\":[{\"id\":\"34721370432\",\"user_id\":\"84553934\",\"user_name\":\"purple_hs\",\"game_id\":\"138585\",\"community_ids\":[],\"type\":\"live\",\"title\":\"Purple short stream. first NA match of the day tomorrow vs Zalae\",\"viewer_count\":929,\"started_at\":\"2019-06-30T00:02:34Z\",\"language\":\"en\",\"thumbnail_url\":\"https://static-cdn.jtvnw.net/previews-ttv/live_user_purple_hs-{width}x{height}.jpg\",\"tag_ids\":[\"6ea6bca4-4712-4ab9-a906-e3336a9d8039\"]},{\"id\":\"34720831456\",\"user_id\":\"102185878\",\"user_name\":\"마스카\",\"game_id\":\"138585\",\"community_ids\":[],\"type\":\"live\",\"title\":\"마스카의 하스스톤 : 라스트 가디언 오브 돌\",\"viewer_count\":737,\"started_at\":\"2019-06-29T23:05:56Z\",\"language\":\"ko\",\"thumbnail_url\":\"https://static-cdn.jtvnw.net/previews-ttv/live_user_mascahs-{width}x{height}.jpg\",\"tag_ids\":[\"ab2975e3-b9ca-4b1a-a93e-fb61a5d5c3a4\",\"d9f4aac9-0ca6-4181-828b-4594725bfa0c\"]},{\"id\":\"34720421344\",\"user_id\":\"38442474\",\"user_name\":\"dreads\",\"game_id\":\"138585\",\"community_ids\":[\"de626589-d7a3-4628-8dfe-6dc631f34f47\"],\"type\":\"live\",\"title\":\"ARENA! - Never Toxic Saturdays :) - Chat draft and sub song requests later - !link\",\"viewer_count\":632,\"started_at\":\"2019-06-29T22:25:04Z\",\"language\":\"en\",\"thumbnail_url\":\"https://static-cdn.jtvnw.net/previews-ttv/live_user_dreads-{width}x{height}.jpg\",\"tag_ids\":[\"cc5eabb5-3f2c-41b5-b9b5-399a9b4d40ea\",\"cea7bc0c-75a5-4446-8743-6db031b71550\",\"6ea6bca4-4712-4ab9-a906-e3336a9d8039\"]},{\"id\":\"34720812992\",\"user_id\":\"131530827\",\"user_name\":\"cahchec\",\"game_id\":\"138585\",\"community_ids\":[],\"type\":\"live\",\"title\":\"Миссия невыполнима: успеть в легенду + вебка!\",\"viewer_count\":470,\"started_at\":\"2019-06-29T23:04:03Z\",\"language\":\"ru\",\"thumbnail_url\":\"https://static-cdn.jtvnw.net/previews-ttv/live_user_cahchec-{width}x{height}.jpg\",\"tag_ids\":[\"0569b171-2a2b-476e-a596-5bdfb45a1327\"]},{\"id\":\"34720820160\",\"user_id\":\"44811367\",\"user_name\":\"ZeddyHS\",\"game_id\":\"138585\",\"community_ids\":[\"136d5c6a-a7ed-4b6d-aedb-1deb08793157\"],\"type\":\"live\",\"title\":\"Top 5 NA - Signed up for a 2 month time intensive Bachelor\\'s in How To Draw Boom\",\"viewer_count\":443,\"started_at\":\"2019-06-29T23:04:44Z\",\"language\":\"en\",\"thumbnail_url\":\"https://static-cdn.jtvnw.net/previews-ttv/live_user_zeddyhs-{width}x{height}.jpg\",\"tag_ids\":[\"6ea6bca4-4712-4ab9-a906-e3336a9d8039\"]},{\"id\":\"34719074128\",\"user_id\":\"31187787\",\"user_name\":\"Hotform\",\"game_id\":\"138585\",\"community_ids\":[],\"type\":\"live\",\"title\":\"🔴 Hotform \",\"viewer_count\":395,\"started_at\":\"2019-06-29T20:22:24Z\",\"language\":\"en\",\"thumbnail_url\":\"https://static-cdn.jtvnw.net/previews-ttv/live_user_hotform-{width}x{height}.jpg\",\"tag_ids\":[\"6ea6bca4-4712-4ab9-a906-e3336a9d8039\"]},{\"id\":\"34720675264\",\"user_id\":\"118789507\",\"user_name\":\"Nukesaku_\",\"game_id\":\"138585\",\"community_ids\":[\"aabb1a4b-4681-4115-9806-391fca12b2a4\"],\"type\":\"live\",\"title\":\"とうぎじょう\",\"viewer_count\":239,\"started_at\":\"2019-06-29T22:51:09Z\",\"language\":\"ja\",\"thumbnail_url\":\"https://static-cdn.jtvnw.net/previews-ttv/live_user_nukesaku_-{width}x{height}.jpg\",\"tag_ids\":[\"6ba1d230-e52f-4d81-b1e0-41f25a8a9f5d\"]},{\"id\":\"34721063856\",\"user_id\":\"42596387\",\"user_name\":\"m989876525\",\"game_id\":\"138585\",\"community_ids\":[],\"type\":\"live\",\"title\":\"Eason  下午三點敦化KOKOLAB 2k小關主\",\"viewer_count\":199,\"started_at\":\"2019-06-29T23:30:28Z\",\"language\":\"zh\",\"thumbnail_url\":\"https://static-cdn.jtvnw.net/previews-ttv/live_user_m989876525-{width}x{height}.jpg\",\"tag_ids\":[\"74c92063-a389-4fd2-8460-b1bb82b04ec7\"]},{\"id\":\"34718723168\",\"user_id\":\"23559863\",\"user_name\":\"WowHobbs\",\"game_id\":\"138585\",\"community_ids\":[\"136d5c6a-a7ed-4b6d-aedb-1deb08793157\",\"848d95be-90b3-44a5-b143-6e373754c382\",\"af316f16-866f-4566-a76e-c55c0d29081c\"],\"type\":\"live\",\"title\":\"Hearthstone Hobbs\",\"viewer_count\":154,\"started_at\":\"2019-06-29T19:54:52Z\",\"language\":\"en\",\"thumbnail_url\":\"https://static-cdn.jtvnw.net/previews-ttv/live_user_wowhobbs-{width}x{height}.jpg\",\"tag_ids\":[\"6ea6bca4-4712-4ab9-a906-e3336a9d8039\"]},{\"id\":\"34717728560\",\"user_id\":\"126624029\",\"user_name\":\"サラダチキン\",\"game_id\":\"138585\",\"community_ids\":[],\"type\":\"live\",\"title\":\"平均8勝目指す\",\"viewer_count\":114,\"started_at\":\"2019-06-29T18:39:22Z\",\"language\":\"ja\",\"thumbnail_url\":\"https://static-cdn.jtvnw.net/previews-ttv/live_user_salad_chicken_-{width}x{height}.jpg\",\"tag_ids\":[\"6ba1d230-e52f-4d81-b1e0-41f25a8a9f5d\"]},{\"id\":\"34721470768\",\"user_id\":\"78689756\",\"user_name\":\"muzzy_hs\",\"game_id\":\"138585\",\"community_ids\":[],\"type\":\"live\",\"title\":\"legend ladder\",\"viewer_count\":107,\"started_at\":\"2019-06-30T00:12:44Z\",\"language\":\"en\",\"thumbnail_url\":\"https://static-cdn.jtvnw.net/previews-ttv/live_user_muzzy_hs-{width}x{height}.jpg\",\"tag_ids\":[\"6ea6bca4-4712-4ab9-a906-e3336a9d8039\",\"dbacccc8-57e7-4411-9664-9982f96d629c\",\"d9f4aac9-0ca6-4181-828b-4594725bfa0c\"]},{\"id\":\"34716103792\",\"user_id\":\"75752840\",\"user_name\":\"Kamahl_HS\",\"game_id\":\"138585\",\"community_ids\":[],\"type\":\"live\",\"title\":\"[PL/ENG] Quali fo Seulu/Walka o finisz w Top200/!spotkanie\",\"viewer_count\":106,\"started_at\":\"2019-06-29T16:08:28Z\",\"language\":\"pl\",\"thumbnail_url\":\"https://static-cdn.jtvnw.net/previews-ttv/live_user_kamahl_hs-{width}x{height}.jpg\",\"tag_ids\":[\"f9d04efa-6e25-49bf-bf0a-da3e2addaf1b\"]},{\"id\":\"34719400320\",\"user_id\":\"178559189\",\"user_name\":\"t1tournaments\",\"game_id\":\"138585\",\"community_ids\":[\"136d5c6a-a7ed-4b6d-aedb-1deb08793157\",\"848d95be-90b3-44a5-b143-6e373754c382\",\"e460229e-2100-4c42-894c-d758651f06c6\"],\"type\":\"live\",\"title\":\"Hearthstone Tourney Tonight!! Win A Shot At 175$ In Cash\",\"viewer_count\":104,\"started_at\":\"2019-06-29T20:50:15Z\",\"language\":\"en\",\"thumbnail_url\":\"https://static-cdn.jtvnw.net/previews-ttv/live_user_t1tournaments-{width}x{height}.jpg\",\"tag_ids\":[\"6ea6bca4-4712-4ab9-a906-e3336a9d8039\"]},{\"id\":\"34719821824\",\"user_id\":\"70512575\",\"user_name\":\"SaucyMailman\",\"game_id\":\"138585\",\"community_ids\":[\"2285bbfa-45cc-441d-88e7-e3dd5feb5b5a\",\"8deb7b0f-d5a3-4f9d-942d-2331d8f4fe3d\",\"e7e36140-dfbc-4f5a-b503-f891c6d072c8\"],\"type\":\"live\",\"title\":\"[WILD] Legend Ladder /// Yogg Shudderwock Shaman \\\\u003cF2K ComNet\\\\u003e ·\",\"viewer_count\":94,\"started_at\":\"2019-06-29T21:27:29Z\",\"language\":\"en\",\"thumbnail_url\":\"https://static-cdn.jtvnw.net/previews-ttv/live_user_saucymailman-{width}x{height}.jpg\",\"tag_ids\":[\"8bbdb07d-df18-4f82-a928-04a9003e9a7e\",\"e1a43486-eee5-4f36-9ee6-76e72af00180\",\"67259b26-ff83-444e-9d3c-faab390df16f\",\"353ab6ac-a0ee-404e-9bfa-217446b97718\",\"6ea6bca4-4712-4ab9-a906-e3336a9d8039\",\"7f613168-c2fb-48f7-948b-a51aa8fd53d0\"]},{\"id\":\"34718657712\",\"user_id\":\"137385360\",\"user_name\":\"lnta\",\"game_id\":\"138585\",\"community_ids\":[],\"type\":\"live\",\"title\":\"Возмездие Бостон Динамикс. \",\"viewer_count\":88,\"started_at\":\"2019-06-29T19:49:48Z\",\"language\":\"ru\",\"thumbnail_url\":\"https://static-cdn.jtvnw.net/previews-ttv/live_user_lnta-{width}x{height}.jpg\",\"tag_ids\":[\"0569b171-2a2b-476e-a596-5bdfb45a1327\"]},{\"id\":\"34719958048\",\"user_id\":\"152985722\",\"user_name\":\"SkoulikiHS\",\"game_id\":\"138585\",\"community_ids\":[],\"type\":\"live\",\"title\":\"Day 30 Rank 2- !manoaperta -  #TeamPhantasma\",\"viewer_count\":55,\"started_at\":\"2019-06-29T21:40:14Z\",\"language\":\"el\",\"thumbnail_url\":\"https://static-cdn.jtvnw.net/previews-ttv/live_user_skoulikihs-{width}x{height}.jpg\",\"tag_ids\":[\"902f6815-a655-4918-99e7-48c74a71feac\"]},{\"id\":\"34718971968\",\"user_id\":\"165753222\",\"user_name\":\"SaveFile17\",\"game_id\":\"138585\",\"community_ids\":[],\"type\":\"live\",\"title\":\"Chat Draft ARENA: 16x Leaderboard! Sets in Rotation: Karazhan, Goblins vs Gnomes, Boomsday, Grand Tournament, and Rise of Shadows!\",\"viewer_count\":50,\"started_at\":\"2019-06-29T20:14:10Z\",\"language\":\"en\",\"thumbnail_url\":\"https://static-cdn.jtvnw.net/previews-ttv/live_user_savefile17-{width}x{height}.jpg\",\"tag_ids\":[\"1eba3cfe-51cc-460a-8259-bc8bb987f904\",\"cc5eabb5-3f2c-41b5-b9b5-399a9b4d40ea\",\"3bbf3e11-717e-46af-aec3-37e4f9216db4\",\"6ea6bca4-4712-4ab9-a906-e3336a9d8039\"]},{\"id\":\"34719702688\",\"user_id\":\"173034852\",\"user_name\":\"radbtr\",\"game_id\":\"138585\",\"community_ids\":[],\"type\":\"live\",\"title\":\"Un rato de ladder - !sr !sonidos !emotes\",\"viewer_count\":49,\"started_at\":\"2019-06-29T21:16:34Z\",\"language\":\"es\",\"thumbnail_url\":\"https://static-cdn.jtvnw.net/previews-ttv/live_user_radbtr-{width}x{height}.jpg\",\"tag_ids\":[\"d4bb9c58-2141-4881-bcdc-3fe0505457d1\"]},{\"id\":\"34719082752\",\"user_id\":\"135497036\",\"user_name\":\"Yocto94\",\"game_id\":\"138585\",\"community_ids\":[\"434e0896-4c27-4c87-9275-cbfba2b323f5\",\"4cc11eec-b7c2-4ada-8364-5a91d537e4bf\",\"fd0eab99-832a-4d7e-8cc0-04d73deb2e54\"],\"type\":\"live\",\"title\":\"[IT/EN] Battleriff Stuff then Ladder. Live from Qlash House\",\"viewer_count\":38,\"started_at\":\"2019-06-29T20:23:00Z\",\"language\":\"it\",\"thumbnail_url\":\"https://static-cdn.jtvnw.net/previews-ttv/live_user_yocto94-{width}x{height}.jpg\",\"tag_ids\":[\"e1a43486-eee5-4f36-9ee6-76e72af00180\",\"1eba3cfe-51cc-460a-8259-bc8bb987f904\",\"cc8d5abb-39c9-4942-a1ee-e1558512119e\",\"dcf598ca-b5de-47d4-af33-ecabe9eaeee1\",\"5b9935eb-1e9a-4217-98ad-62bda5cff0d1\",\"74360028-fb89-4dc8-bba4-ed356b06a46a\",\"4c735b64-52ee-4637-9144-b7d8bd0b4324\"]},{\"id\":\"34718461568\",\"user_id\":\"277652861\",\"user_name\":\"vlados4220\",\"game_id\":\"138585\",\"community_ids\":[],\"type\":\"live\",\"title\":\"Закончу сезон в топ 100(EU) \\\\\\\\ Держу в курсе\\\\nВеду счет кста\",\"viewer_count\":38,\"started_at\":\"2019-06-29T19:34:20Z\",\"language\":\"ru\",\"thumbnail_url\":\"https://static-cdn.jtvnw.net/previews-ttv/live_user_vlados4220-{width}x{height}.jpg\",\"tag_ids\":[\"0569b171-2a2b-476e-a596-5bdfb45a1327\"]}],\"pagination\":{\"cursor\":\"eyJiIjpudWxsLCJhIjp7Ik9mZnNldCI6MjB9fQ\"}}'"
      ]
     },
     "execution_count": 147,
     "metadata": {},
     "output_type": "execute_result"
    }
   ],
   "source": [
    "r.text"
   ]
  },
  {
   "cell_type": "code",
   "execution_count": 140,
   "metadata": {},
   "outputs": [],
   "source": [
    "p = requests.get('https://api.twitch.tv/helix/games?name=hearthstone', headers=headers)"
   ]
  },
  {
   "cell_type": "code",
   "execution_count": 141,
   "metadata": {},
   "outputs": [
    {
     "data": {
      "text/plain": [
       "'{\"data\":[{\"id\":\"138585\",\"name\":\"Hearthstone\",\"box_art_url\":\"https://static-cdn.jtvnw.net/ttv-boxart/Hearthstone-{width}x{height}.jpg\"}]}'"
      ]
     },
     "execution_count": 141,
     "metadata": {},
     "output_type": "execute_result"
    }
   ],
   "source": [
    "p.text"
   ]
  },
  {
   "cell_type": "code",
   "execution_count": 79,
   "metadata": {},
   "outputs": [],
   "source": [
    "with open('test.csv', 'w') as f:\n",
    "    writer = csv.DictWriter(f, fieldnames = [\"stuff1\", \"stuff2\", \"stuff3\"])\n",
    "    writer.writeheader()"
   ]
  },
  {
   "cell_type": "code",
   "execution_count": 81,
   "metadata": {},
   "outputs": [],
   "source": [
    "import csv\n",
    "with open('test.csv', 'a') as f:\n",
    "    writer = csv.writer(f)\n",
    "    writer.writerow(['a', 'b', 'c'])\n",
    "    "
   ]
  },
  {
   "cell_type": "code",
   "execution_count": 82,
   "metadata": {},
   "outputs": [],
   "source": [
    "test_df = pd.read_csv('test.csv')"
   ]
  },
  {
   "cell_type": "code",
   "execution_count": 83,
   "metadata": {},
   "outputs": [
    {
     "data": {
      "text/html": [
       "<div>\n",
       "<style scoped>\n",
       "    .dataframe tbody tr th:only-of-type {\n",
       "        vertical-align: middle;\n",
       "    }\n",
       "\n",
       "    .dataframe tbody tr th {\n",
       "        vertical-align: top;\n",
       "    }\n",
       "\n",
       "    .dataframe thead th {\n",
       "        text-align: right;\n",
       "    }\n",
       "</style>\n",
       "<table border=\"1\" class=\"dataframe\">\n",
       "  <thead>\n",
       "    <tr style=\"text-align: right;\">\n",
       "      <th></th>\n",
       "      <th>stuff1</th>\n",
       "      <th>stuff2</th>\n",
       "      <th>stuff3</th>\n",
       "    </tr>\n",
       "  </thead>\n",
       "  <tbody>\n",
       "    <tr>\n",
       "      <th>0</th>\n",
       "      <td>a</td>\n",
       "      <td>b</td>\n",
       "      <td>c</td>\n",
       "    </tr>\n",
       "    <tr>\n",
       "      <th>1</th>\n",
       "      <td>a</td>\n",
       "      <td>b</td>\n",
       "      <td>c</td>\n",
       "    </tr>\n",
       "  </tbody>\n",
       "</table>\n",
       "</div>"
      ],
      "text/plain": [
       "  stuff1 stuff2 stuff3\n",
       "0      a      b      c\n",
       "1      a      b      c"
      ]
     },
     "execution_count": 83,
     "metadata": {},
     "output_type": "execute_result"
    }
   ],
   "source": [
    "test_df"
   ]
  },
  {
   "cell_type": "code",
   "execution_count": 84,
   "metadata": {},
   "outputs": [],
   "source": [
    "import os"
   ]
  },
  {
   "cell_type": "code",
   "execution_count": 88,
   "metadata": {},
   "outputs": [
    {
     "data": {
      "text/plain": [
       "False"
      ]
     },
     "execution_count": 88,
     "metadata": {},
     "output_type": "execute_result"
    }
   ],
   "source": [
    "os.path.exists('tesat.csv')"
   ]
  },
  {
   "cell_type": "code",
   "execution_count": null,
   "metadata": {},
   "outputs": [],
   "source": []
  }
 ],
 "metadata": {
  "kernelspec": {
   "display_name": "Python 3",
   "language": "python",
   "name": "python3"
  },
  "language_info": {
   "codemirror_mode": {
    "name": "ipython",
    "version": 3
   },
   "file_extension": ".py",
   "mimetype": "text/x-python",
   "name": "python",
   "nbconvert_exporter": "python",
   "pygments_lexer": "ipython3",
   "version": "3.6.5"
  }
 },
 "nbformat": 4,
 "nbformat_minor": 2
}
